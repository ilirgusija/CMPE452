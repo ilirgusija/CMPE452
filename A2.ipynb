{
 "cells": [
  {
   "cell_type": "markdown",
   "id": "cf798513",
   "metadata": {
    "id": "cf798513"
   },
   "source": [
    "# CISC/CMPE 452/COGS 400 Assignment 2 - Backpropagation (15 points)  \n",
    "\n",
    "Please put your name and student id here\n",
    "\n",
    "    Ilir Gusija, #20158525\n",
    "\n",
    "- The notebook file has clearly marked blocks where you are expected to write code. Do not write or modify any code outside of these blocks.\n",
    "- Make sure to restart and run all the cells from the beginning before submission. Do not clear out the outputs. You will only get credit for code that has been run.\n",
    "- Mark will be deducted based on late policy (-1% of the course total marks per day after due date until the end date after which no assignments will be accepted)\n"
   ]
  },
  {
   "cell_type": "markdown",
   "id": "VRLNrFDU3dKp",
   "metadata": {
    "id": "VRLNrFDU3dKp"
   },
   "source": [
    "## [Part 1 (9 points)](#Part-1)  \n",
    "\n",
    "### Build Model1 (7 points)  \n",
    "Use Pytorch to implement a three-layer Neural Network (input layer - hidden layer - output layer) and update the weights with backpropagation  \n",
    "- 1. Implement forward and calculate the output (1 point)  \n",
    "- 2. Calculate errors and loss (3 points)  \n",
    "- 3. Update the weights with backpropagation (1 points)  \n",
    "- 4. Predict function (1 point)  \n",
    "- 5. Activation function (Sigmoid function) (1 point)  \n",
    "\n",
    "### Evaluator Function (1 point)  \n",
    "Implement the evaluator function with Pytorch or Numpy only   \n",
    "- Evaluation metrics include confusion matrix, accuracy, recall score, precision and F1 score\n",
    "\n",
    "### Train and Evaluate Model1 (1 point)  \n",
    "Train Model1 with customized hidden size, learning rate, number of iterations and batch size  \n",
    "Use the predict function to predict the labels with the test dataset  \n",
    "Evaluate the prediction results  \n",
    "- Evaluation metrics include confusion matrix, accuracy, recall score, precision and F1 score\n",
    "\n",
    "## [Part 2 (6 points)](#Part-2)  \n",
    "\n",
    "Use another machine learning framework (**scikit-learn, Tensorflow and Pytorch**) to build MLP\n",
    "e.g. \n",
    "  1. https://scikit-learn.org/stable/modules/generated/sklearn.neural_network.MLPClassifier.html\n",
    "  2. https://www.tensorflow.org/api_docs/python/tf/keras/Sequential\n",
    "  3. https://pytorch.org/tutorials/beginner/examples_nn/polynomial_nn.html#sphx-glr-beginner-examples-nn-polynomial-nn-py\n",
    "  \n",
    "### Build Model2-1 (2 points)  \n",
    "Implement Model2-1 with the same hidden nodes and optimization function as the model in Part 1  \n",
    "Train and validate model. Use the best model on validation dataset to test on the test dataset  \n",
    "\n",
    "### Train and Evaluate Model2-1 (1 point)\n",
    "Evaluate the prediction results  \n",
    "- Evaluation metrics include confusion matrix, accuracy, recall score, precision and F1 score\n",
    "\n",
    "### Build Model2-2 (2 points)  \n",
    "Add one more hidden layer (2 hidden layers in total) to the model  \n",
    "Describe Model2-2 (number of hidden nodes)  \n",
    "Train and validate model. Use the best model on validation dataset to test on the test dataset  \n",
    "\n",
    "### Train and Evaluate Model2-2 (1 point)\n",
    "Evaluate the prediction results  \n",
    "- Evaluation metrics include confusion matrix, accuracy, recall score, precision and F1 score"
   ]
  },
  {
   "cell_type": "code",
   "execution_count": 2,
   "id": "b7e6a263",
   "metadata": {
    "id": "b7e6a263"
   },
   "outputs": [],
   "source": [
    "import torch as torch\n",
    "import matplotlib.pyplot as plt\n",
    "from torchvision.datasets import MNIST\n",
    "import numpy as np"
   ]
  },
  {
   "cell_type": "code",
   "execution_count": 3,
   "id": "eKE_KANU7_sq",
   "metadata": {
    "colab": {
     "base_uri": "https://localhost:8080/"
    },
    "id": "eKE_KANU7_sq",
    "outputId": "946cd1ab-22bd-4efa-c734-faab97e6f40d"
   },
   "outputs": [
    {
     "data": {
      "text/plain": [
       "device(type='cuda')"
      ]
     },
     "execution_count": 3,
     "metadata": {},
     "output_type": "execute_result"
    }
   ],
   "source": [
    "# you can go to Edit - Notebook settings to select GPU under the Hardware accelerator\n",
    "# check the device\n",
    "device = torch.device('cuda' if torch.cuda.is_available() else 'cpu')\n",
    "device"
   ]
  },
  {
   "cell_type": "code",
   "execution_count": 4,
   "id": "9a5cbc46",
   "metadata": {
    "id": "9a5cbc46"
   },
   "outputs": [],
   "source": [
    "# build the dataset (train, validation and test)\n",
    "def load_MNIST(n_val=10000, n_sample=1000, sample=False):\n",
    "    n_val = n_val\n",
    "    n_sample = n_sample\n",
    "    train = MNIST(root = '.', train = True, download = True)\n",
    "    test = MNIST(root = '.', train = False, download = True)\n",
    "    \n",
    "    # data preprocessing\n",
    "    x_train, x_test = train.data/255, test.data/255\n",
    "    x_train = x_train.reshape(x_train.shape[0], -1)\n",
    "    x_test = x_test.reshape(x_test.shape[0], -1)\n",
    "    y_train = torch.nn.functional.one_hot(train.targets)\n",
    "    y_test = torch.nn.functional.one_hot(test.targets)\n",
    "\n",
    "    data_dict = {}\n",
    "    if sample:\n",
    "        data_dict['x_train'] = x_train[:-n_val][:n_sample]\n",
    "        data_dict['y_train'] = y_train[:-n_val][:n_sample]\n",
    "        data_dict['x_val'] = x_train[-n_val:][:n_sample//10]\n",
    "        data_dict['y_val'] = y_train[-n_val:][:n_sample//10]\n",
    "        data_dict['x_test'] = x_test[:n_sample//10]\n",
    "        data_dict['y_test'] = y_test[:n_sample//10]\n",
    "    else:\n",
    "        data_dict['x_train'] = x_train[:-n_val]\n",
    "        data_dict['y_train'] = y_train[:-n_val]\n",
    "        data_dict['x_val'] = x_train[-n_val:]\n",
    "        data_dict['y_val'] = y_train[-n_val:]\n",
    "        data_dict['x_test'] = x_test\n",
    "        data_dict['y_test'] = y_test\n",
    "    return data_dict"
   ]
  },
  {
   "cell_type": "code",
   "execution_count": 5,
   "id": "Q5G-vmpD21Bj",
   "metadata": {
    "colab": {
     "base_uri": "https://localhost:8080/",
     "height": 573
    },
    "id": "Q5G-vmpD21Bj",
    "outputId": "f053f294-9aad-4097-f75e-aaed70dd050e"
   },
   "outputs": [
    {
     "name": "stdout",
     "output_type": "stream",
     "text": [
      "Train data shape: torch.Size([50000, 784])\n",
      "Train labels shape: torch.Size([50000, 10])\n",
      "Validation data shape: torch.Size([10000, 784])\n",
      "Validation labels shape: torch.Size([10000, 10])\n",
      "Test data shape: torch.Size([10000, 784])\n",
      "Test labels shape: torch.Size([10000, 10])\n"
     ]
    }
   ],
   "source": [
    "# you can start with a small sample dataset by setting sample=True\n",
    "data_dict = load_MNIST(sample=False)\n",
    "print('Train data shape:', data_dict['x_train'].shape)\n",
    "print('Train labels shape:', data_dict['y_train'].shape)\n",
    "print('Validation data shape:', data_dict['x_val'].shape)\n",
    "print('Validation labels shape:', data_dict['y_val'].shape)\n",
    "print('Test data shape:', data_dict['x_test'].shape)\n",
    "print('Test labels shape:', data_dict['y_test'].shape)"
   ]
  },
  {
   "cell_type": "code",
   "execution_count": 6,
   "id": "1aa9f016",
   "metadata": {
    "colab": {
     "base_uri": "https://localhost:8080/",
     "height": 281
    },
    "id": "1aa9f016",
    "outputId": "83a4195e-8fb9-4850-8a9a-7c3bbc2bb623",
    "scrolled": false
   },
   "outputs": [
    {
     "data": {
      "image/png": "[encoded data removed]",
      "text/plain": [
       "<Figure size 640x480 with 1 Axes>"
      ]
     },
     "metadata": {},
     "output_type": "display_data"
    }
   ],
   "source": [
    "# plot an example\n",
    "plt.imshow(data_dict['x_train'][0].reshape(28, 28))\n",
    "plt.title(data_dict['y_train'][0].argmax().item())\n",
    "plt.show()"
   ]
  },
  {
   "cell_type": "code",
   "execution_count": 7,
   "id": "6291c647",
   "metadata": {
    "id": "6291c647"
   },
   "outputs": [],
   "source": [
    "def evaluator(y_test, y_pred):\n",
    "    ####################################################################################################\n",
    "    # enter code here to implement the evaluation metrics including confusion matrix, accuracy, precision and recall\n",
    "    # you can only use Numpy or Pytorch to implement the metrics\n",
    "    conf_mat=np.zeros(shape=(2,2), dtype=int)\n",
    "    \n",
    "    for y_t, y_p in zip(y_test, y_pred):\n",
    "        if y_t==y_p:\n",
    "            if y_t==1:\n",
    "                conf_mat[0][0]+=1\n",
    "            else: \n",
    "                conf_mat[1][1]+=1\n",
    "        else:\n",
    "            if y_t==1:\n",
    "                conf_mat[0][1]+=1\n",
    "            else:\n",
    "                conf_mat[1][0]+=1\n",
    "    TP=conf_mat[0][0]\n",
    "    TN=conf_mat[1][1]\n",
    "    FP=conf_mat[0][1]\n",
    "    FN=conf_mat[1][0]\n",
    "    \n",
    "    accuracy=(TP+TN)/(TP+FP+FN+TN)\n",
    "    precision=TP/(TP+FP)\n",
    "    recall=TP/(TP+FN)\n",
    "    f1=2*precision*recall/(precision+recall)\n",
    "    \n",
    "    print(\"Confusion Matrix:\\n\", conf_mat)\n",
    "    print(\"Accuracy: \", accuracy)\n",
    "    print(\"Precision: \", precision)\n",
    "    print(\"Recall: \", recall)\n",
    "    print(\"F-Score: \", f1)\n",
    "\n",
    "####################################################################################################"
   ]
  },
  {
   "cell_type": "markdown",
   "id": "4e4a6b06",
   "metadata": {
    "id": "4e4a6b06"
   },
   "source": [
    "## Part 1"
   ]
  },
  {
   "cell_type": "code",
   "execution_count": 8,
   "id": "a0d3fc2d",
   "metadata": {
    "id": "a0d3fc2d"
   },
   "outputs": [],
   "source": [
    "class NN(object):\n",
    "    def __init__(self, learning_rate, n_iters, batch_size, hidden_size, device, dtype=torch.float32):\n",
    "        self.learning_rate = learning_rate\n",
    "        self.n_iters = n_iters\n",
    "        self.batch_size = batch_size\n",
    "        self.hidden_size = hidden_size\n",
    "        self.device = device\n",
    "        self.dtype = dtype\n",
    "        self.history = {}\n",
    "        self.history['train_acc'], self.history['val_acc'], self.history['loss'] = [], [], []\n",
    "    \n",
    "    # 5. activation function\n",
    "    def sigmoid(self, x):\n",
    "        ####################################################################################################\n",
    "        # enter code here to implement the activation function\n",
    "        return 1/(1+np.exp(-x))\n",
    "        \n",
    "        ####################################################################################################\n",
    "\n",
    "    def train(self, x, y, x_val, y_val, verbose=1):\n",
    "        n_train = x.shape[0]\n",
    "        n_val = x_val.shape[0]\n",
    "        input_size = x.shape[1]\n",
    "        num_classes = y.shape[1]\n",
    "        \n",
    "        # weight initialization\n",
    "        self.W1 = torch.randn(input_size, self.hidden_size, dtype=self.dtype, device=self.device) * 0.01\n",
    "        self.W2 = torch.randn(self.hidden_size, num_classes, dtype=self.dtype, device=self.device) * 0.01\n",
    "\n",
    "        # TODO: train the weights with the input data and labels\n",
    "        for i in range(self.n_iters):\n",
    "            loss = 0\n",
    "            data = getBatch(x, y, self.batch_size)\n",
    "            for x_batch, y_batch in data:\n",
    "                # 1. forward\n",
    "                ####################################################################################################\n",
    "                # enter code here to calculate the hidden layer output and output layer output\n",
    "                hidden = self.sigmoid(np.matmul(x_batch, self.W1.T))\n",
    "                output = self.sigmoid(np.matmul(hidden, self.W2.T))\n",
    "                ####################################################################################################\n",
    "\n",
    "                # 2. error and loss\n",
    "                ####################################################################################################\n",
    "                # enter code here to calculate the output error, MSE loss, delta output and delta hidden\n",
    "                output_error = y_batch - output\n",
    "                loss += np.average(np.square(output_error))\n",
    "                delta_output = output_error * output * (1 - output)\n",
    "                delta_hidden = np.matmul(delta_output,self.W2.T) * hidden * (1 - hidden)\n",
    "                ####################################################################################################\n",
    "\n",
    "                # 3. backward\n",
    "                ####################################################################################################\n",
    "                # enter code here to calculate delta weights and update the weights\n",
    "                dw2 = -self.learning_rate * np.dot(delta_output , hidden)\n",
    "                dw1 = -self.learning_rate * np.dot(delta_hidden , x_batch)\n",
    "                \n",
    "                self.W2 += dw2\n",
    "                self.W1 += dw1                \n",
    "                ####################################################################################################\n",
    "\n",
    "            # calculate the accuracy and save the training history\n",
    "            y_pred = self.predict(x)\n",
    "            train_acc = torch.sum(torch.argmax(y, dim=1) == y_pred) / n_train\n",
    "            self.history['train_acc'].append(train_acc)\n",
    "            self.history['loss'].append(loss)\n",
    "            \n",
    "            y_pred = self.predict(x_val)\n",
    "            val_acc = torch.sum(torch.argmax(y_val, dim=1) == y_pred) / n_val\n",
    "            self.history['val_acc'].append(val_acc)\n",
    "            if verbose:\n",
    "                print('epoch %d, loss %.4f, train acc %.3f, validation acc %.3f'\n",
    "                  % (i + 1, loss, train_acc, val_acc))\n",
    "    \n",
    "    # 4. predict function \n",
    "    def predict(self, x):\n",
    "        ####################################################################################################\n",
    "        # enter code here to implement the predict function\n",
    "        # TODO: use the trained weights to predict labels and return the predicted labels\n",
    "        # remember to use torch.argmax() to return the true labels\n",
    "        hidden = self.sigmoid(np.dot(self.W1, x))\n",
    "        y_pred = self.sigmoid(np.dot(self.W2, hidden))\n",
    "        \n",
    "        ####################################################################################################\n",
    "        return y_pred\n",
    "\n",
    "def getBatch(x, y, batch_size):\n",
    "    n_epoch = x.shape[0] // batch_size\n",
    "    for i in range(n_epoch):\n",
    "        x_batch = x[i * batch_size : (i+1) * batch_size]\n",
    "        y_batch = y[i * batch_size : (i+1) * batch_size]\n",
    "        yield x_batch, y_batch\n",
    "    x_batch = x[(i+1) * batch_size:]\n",
    "    y_batch = y[(i+1) * batch_size:]    \n",
    "    yield x_batch, y_batch"
   ]
  },
  {
   "cell_type": "code",
   "execution_count": null,
   "id": "74e9819c",
   "metadata": {
    "colab": {
     "base_uri": "https://localhost:8080/"
    },
    "id": "74e9819c",
    "outputId": "c6b1745f-4e19-4f83-afb7-c22f07062738"
   },
   "outputs": [],
   "source": [
    "####################################################################################################\n",
    "# enter code here to train Model1\n",
    "# TODO: set your desired hidden size, learning rate, number of iterations and batch size\n",
    "# remeber to load the dataset to the device (e.g. data_dict['x_train'].to(device))\n",
    "model = NN()\n",
    "x_train = data_dict['x_train'].to(device)\n",
    "y_train = data_dict['y_train'].to(device)\n",
    "x_val = data_dict['']\n",
    "model.train()\n",
    "\n",
    "####################################################################################################"
   ]
  },
  {
   "cell_type": "code",
   "execution_count": null,
   "id": "bebd0600",
   "metadata": {
    "colab": {
     "base_uri": "https://localhost:8080/",
     "height": 265
    },
    "id": "bebd0600",
    "outputId": "4cf59edb-b5bd-417c-913f-78b5a793189f"
   },
   "outputs": [],
   "source": [
    "plt.plot(model.history['train_acc'], label='train_acc')\n",
    "plt.plot(model.history['val_acc'], label='val_acc')\n",
    "plt.legend()\n",
    "plt.show()"
   ]
  },
  {
   "cell_type": "code",
   "execution_count": null,
   "id": "UQciuqY96_6Z",
   "metadata": {
    "colab": {
     "base_uri": "https://localhost:8080/"
    },
    "id": "UQciuqY96_6Z",
    "outputId": "0aff8095-e7a6-4558-f99c-36d2512488f7"
   },
   "outputs": [],
   "source": [
    "####################################################################################################\n",
    "# enter code here to evaluate Model1 with test set\n",
    "# TODO: use the trained Model1 to predict the labels of test set and evaluate the results with the evaluator\n",
    "y_pred = model.predict(x_test)\n",
    "evaluator(y_test, y_pred)\n",
    "####################################################################################################"
   ]
  },
  {
   "cell_type": "code",
   "execution_count": null,
   "id": "bhkkGjWwxlLJ",
   "metadata": {
    "id": "bhkkGjWwxlLJ"
   },
   "outputs": [],
   "source": []
  },
  {
   "cell_type": "markdown",
   "id": "QG_rb7uJ4XDL",
   "metadata": {
    "id": "QG_rb7uJ4XDL"
   },
   "source": [
    "## Part 2"
   ]
  },
  {
   "cell_type": "markdown",
   "id": "a5c845a9",
   "metadata": {},
   "source": [
    "### Model2-1"
   ]
  },
  {
   "cell_type": "code",
   "execution_count": null,
   "id": "13519996",
   "metadata": {},
   "outputs": [],
   "source": [
    "####################################################################################################\n",
    "# enter code here to implement Model2-1\n",
    "\n",
    "\n",
    "####################################################################################################"
   ]
  },
  {
   "cell_type": "code",
   "execution_count": null,
   "id": "208a8e33",
   "metadata": {},
   "outputs": [],
   "source": [
    "####################################################################################################\n",
    "# enter code here to train Model2-1\n",
    "\n",
    "\n",
    "####################################################################################################"
   ]
  },
  {
   "cell_type": "code",
   "execution_count": null,
   "id": "f61594f0",
   "metadata": {},
   "outputs": [],
   "source": [
    "####################################################################################################\n",
    "# enter code here to evaluate Model2-1\n",
    "\n",
    "\n",
    "####################################################################################################"
   ]
  },
  {
   "cell_type": "markdown",
   "id": "c4a9243f",
   "metadata": {},
   "source": [
    "### Model2-2"
   ]
  },
  {
   "cell_type": "code",
   "execution_count": null,
   "id": "0eaf38a5",
   "metadata": {},
   "outputs": [],
   "source": [
    "####################################################################################################\n",
    "# enter code here to implement Model2-2\n",
    "\n",
    "\n",
    "####################################################################################################"
   ]
  },
  {
   "cell_type": "code",
   "execution_count": null,
   "id": "090300ae",
   "metadata": {},
   "outputs": [],
   "source": [
    "####################################################################################################\n",
    "# enter code here to train Model2-2\n",
    "\n",
    "\n",
    "####################################################################################################"
   ]
  },
  {
   "cell_type": "code",
   "execution_count": null,
   "id": "ca87daf8",
   "metadata": {},
   "outputs": [],
   "source": [
    "####################################################################################################\n",
    "# enter code here to evaluate Model2-2\n",
    "\n",
    "\n",
    "####################################################################################################"
   ]
  }
 ],
 "metadata": {
  "accelerator": "GPU",
  "colab": {
   "collapsed_sections": [],
   "name": "A2_solution.ipynb",
   "provenance": []
  },
  "kernelspec": {
   "display_name": "Python 3.8.9 64-bit",
   "language": "python",
   "name": "python3"
  },
  "language_info": {
   "codemirror_mode": {
    "name": "ipython",
    "version": 3
   },
   "file_extension": ".py",
   "mimetype": "text/x-python",
   "name": "python",
   "nbconvert_exporter": "python",
   "pygments_lexer": "ipython3",
   "version": "3.11.4"
  },
  "vscode": {
   "interpreter": {
    "hash": "31f2aee4e71d21fbe5cf8b01ff0e069b9275f58929596ceb00d14d90e3e16cd6"
   }
  }
 },
 "nbformat": 4,
 "nbformat_minor": 5
}
