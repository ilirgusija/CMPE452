{
 "cells": [
  {
   "cell_type": "code",
   "execution_count": 35,
   "metadata": {},
   "outputs": [
    {
     "name": "stdout",
     "output_type": "stream",
     "text": [
      "Mutation Rate: 0.001, Crossover Rate: 0.7, Average Generations: 34.35\n",
      "Mutation Rate: 0.001, Crossover Rate: 0.5, Average Generations: 30.75\n",
      "Mutation Rate: 0.001, Crossover Rate: 0.3, Average Generations: 47.05\n",
      "Mutation Rate: 0.01, Crossover Rate: 0.7, Average Generations: 28.6\n",
      "Mutation Rate: 0.01, Crossover Rate: 0.5, Average Generations: 49.35\n",
      "Mutation Rate: 0.01, Crossover Rate: 0.3, Average Generations: 78.5\n"
     ]
    }
   ],
   "source": [
    "import numpy as np\n",
    "import random\n",
    "import sys\n",
    "\n",
    "def fitness_function(chromosome):\n",
    "    return sum(chromosome)\n",
    "    # insert code\n",
    "\n",
    "def initialize_population(population_size, chromosome_length):\n",
    "    return np.array([np.random.choice([0,1], size=chromosome_length) for _ in range(population_size)])\n",
    "      # insert code\n",
    "\n",
    "def roulette_wheel_selection(population, fitness_values):\n",
    "    total_fitness = float(sum(fitness_values))\n",
    "    cum_relative_fitness_vals = np.zeros(len(fitness_values))\n",
    "    for i in range(len(fitness_values)):\n",
    "        cum_relative_fitness_vals[i]  = float(sum(fitness_values[:i+1]))/total_fitness\n",
    "    r = random.random()\n",
    "    for idx in range(len(population)):\n",
    "        if(cum_relative_fitness_vals[idx] > r):\n",
    "            return idx\n",
    "        \n",
    "    print(\"Length of crfv {}, and fitness vals {}\".format(len(cum_relative_fitness_vals), len(fitness_values)))\n",
    "    print(\"No idx found, here's the list of crfv {}\".format(cum_relative_fitness_vals))\n",
    "    print(\"and here is the probability {}\".format(r))\n",
    "    sys.exit()\n",
    "\n",
    "def single_point_crossover(parent1, parent2, crossover_rate):\n",
    "    if (random.random() < crossover_rate):\n",
    "        crossover_point = random.randint(0, len(parent1)-1)\n",
    "        childA = np.hstack((parent1[:crossover_point], parent2[crossover_point:]))\n",
    "        childB = np.hstack((parent2[:crossover_point], parent1[crossover_point:]))\n",
    "        return childA, childB\n",
    "    else:\n",
    "        return parent1, parent2\n",
    "\n",
    "def bitwise_mutation(child, mutation_rate):\n",
    "    for i in range(len(child)):\n",
    "        if random.random() < mutation_rate:\n",
    "            child[i] = 1 - child[i]\n",
    "    return child\n",
    "\n",
    "def genetic_algorithm(population_size, chromosome_length, crossover_rate, mutation_rate, runs):\n",
    "    generations_to_discovery = []\n",
    "    for _ in range(runs):\n",
    "        population = initialize_population(population_size, chromosome_length)\n",
    "        counter=0            \n",
    "        while(any(np.all(chromosome == 1) for chromosome in population) is not True):\n",
    "            fitness_vals = np.array([fitness_function(chromosome) for chromosome in population])\n",
    "            new_population = []\n",
    "            while(len(new_population)<population_size):\n",
    "                dad = population[roulette_wheel_selection(population, fitness_vals)]\n",
    "                mom = population[roulette_wheel_selection(population, fitness_vals)]\n",
    "                child1, child2 = single_point_crossover(mom, dad, crossover_rate)\n",
    "                child1 = bitwise_mutation(child1, mutation_rate)\n",
    "                child2 = bitwise_mutation(child2, mutation_rate)\n",
    "                new_population.append(child1)\n",
    "                new_population.append(child2)\n",
    "            population = new_population\n",
    "            counter += 1\n",
    "        generations_to_discovery.append(counter)\n",
    "\n",
    "    return np.mean(generations_to_discovery)\n",
    "\n",
    "# Perform experiments with different mutation and crossover rates\n",
    "mutation_rates = [0.001, 0.01]\n",
    "# mutation_rates = [0.001, 0.01, 0.1]\n",
    "crossover_rates = [0.7, 0.5, 0.3]\n",
    "runs = 20\n",
    "\n",
    "for mutation_rate in mutation_rates:\n",
    "    for crossover_rate in crossover_rates:\n",
    "        avg_generations = genetic_algorithm(100, 20, crossover_rate, mutation_rate, runs)\n",
    "        print(f\"Mutation Rate: {mutation_rate}, Crossover Rate: {crossover_rate}, Average Generations: {avg_generations}\")\n"
   ]
  },
  {
   "cell_type": "code",
   "execution_count": 36,
   "metadata": {},
   "outputs": [
    {
     "ename": "KeyboardInterrupt",
     "evalue": "",
     "output_type": "error",
     "traceback": [
      "\u001b[0;31m---------------------------------------------------------------------------\u001b[0m",
      "\u001b[0;31mKeyboardInterrupt\u001b[0m                         Traceback (most recent call last)",
      "\u001b[1;32m/home/ilir/school/cmpe452/genetic_algorithm/A4-P4.ipynb Cell 2\u001b[0m line \u001b[0;36m9\n\u001b[1;32m      <a href='vscode-notebook-cell://wsl%2Bfedora/home/ilir/school/cmpe452/genetic_algorithm/A4-P4.ipynb#W1sdnNjb2RlLXJlbW90ZQ%3D%3D?line=6'>7</a>\u001b[0m \u001b[39mfor\u001b[39;00m mutation_rate \u001b[39min\u001b[39;00m mutation_rates:\n\u001b[1;32m      <a href='vscode-notebook-cell://wsl%2Bfedora/home/ilir/school/cmpe452/genetic_algorithm/A4-P4.ipynb#W1sdnNjb2RlLXJlbW90ZQ%3D%3D?line=7'>8</a>\u001b[0m     \u001b[39mfor\u001b[39;00m crossover_rate \u001b[39min\u001b[39;00m crossover_rates:\n\u001b[0;32m----> <a href='vscode-notebook-cell://wsl%2Bfedora/home/ilir/school/cmpe452/genetic_algorithm/A4-P4.ipynb#W1sdnNjb2RlLXJlbW90ZQ%3D%3D?line=8'>9</a>\u001b[0m         avg_generations \u001b[39m=\u001b[39m genetic_algorithm(\u001b[39m100\u001b[39;49m, \u001b[39m20\u001b[39;49m, crossover_rate, mutation_rate, runs)\n\u001b[1;32m     <a href='vscode-notebook-cell://wsl%2Bfedora/home/ilir/school/cmpe452/genetic_algorithm/A4-P4.ipynb#W1sdnNjb2RlLXJlbW90ZQ%3D%3D?line=9'>10</a>\u001b[0m         \u001b[39mprint\u001b[39m(\u001b[39mf\u001b[39m\u001b[39m\"\u001b[39m\u001b[39mMutation Rate: \u001b[39m\u001b[39m{\u001b[39;00mmutation_rate\u001b[39m}\u001b[39;00m\u001b[39m, Crossover Rate: \u001b[39m\u001b[39m{\u001b[39;00mcrossover_rate\u001b[39m}\u001b[39;00m\u001b[39m, Average Generations: \u001b[39m\u001b[39m{\u001b[39;00mavg_generations\u001b[39m}\u001b[39;00m\u001b[39m\"\u001b[39m)\n",
      "\u001b[1;32m/home/ilir/school/cmpe452/genetic_algorithm/A4-P4.ipynb Cell 2\u001b[0m line \u001b[0;36m4\n\u001b[1;32m     <a href='vscode-notebook-cell://wsl%2Bfedora/home/ilir/school/cmpe452/genetic_algorithm/A4-P4.ipynb#W1sdnNjb2RlLXJlbW90ZQ%3D%3D?line=45'>46</a>\u001b[0m population \u001b[39m=\u001b[39m initialize_population(population_size, chromosome_length)\n\u001b[1;32m     <a href='vscode-notebook-cell://wsl%2Bfedora/home/ilir/school/cmpe452/genetic_algorithm/A4-P4.ipynb#W1sdnNjb2RlLXJlbW90ZQ%3D%3D?line=46'>47</a>\u001b[0m counter\u001b[39m=\u001b[39m\u001b[39m0\u001b[39m            \n\u001b[0;32m---> <a href='vscode-notebook-cell://wsl%2Bfedora/home/ilir/school/cmpe452/genetic_algorithm/A4-P4.ipynb#W1sdnNjb2RlLXJlbW90ZQ%3D%3D?line=47'>48</a>\u001b[0m \u001b[39mwhile\u001b[39;00m(\u001b[39many\u001b[39m(np\u001b[39m.\u001b[39mall(chromosome \u001b[39m==\u001b[39m \u001b[39m1\u001b[39m) \u001b[39mfor\u001b[39;00m chromosome \u001b[39min\u001b[39;00m population) \u001b[39mis\u001b[39;00m \u001b[39mnot\u001b[39;00m \u001b[39mTrue\u001b[39;00m):\n\u001b[1;32m     <a href='vscode-notebook-cell://wsl%2Bfedora/home/ilir/school/cmpe452/genetic_algorithm/A4-P4.ipynb#W1sdnNjb2RlLXJlbW90ZQ%3D%3D?line=48'>49</a>\u001b[0m     fitness_vals \u001b[39m=\u001b[39m np\u001b[39m.\u001b[39marray([fitness_function(chromosome) \u001b[39mfor\u001b[39;00m chromosome \u001b[39min\u001b[39;00m population])\n\u001b[1;32m     <a href='vscode-notebook-cell://wsl%2Bfedora/home/ilir/school/cmpe452/genetic_algorithm/A4-P4.ipynb#W1sdnNjb2RlLXJlbW90ZQ%3D%3D?line=49'>50</a>\u001b[0m     new_population \u001b[39m=\u001b[39m []\n",
      "\u001b[1;32m/home/ilir/school/cmpe452/genetic_algorithm/A4-P4.ipynb Cell 2\u001b[0m line \u001b[0;36m4\n\u001b[1;32m     <a href='vscode-notebook-cell://wsl%2Bfedora/home/ilir/school/cmpe452/genetic_algorithm/A4-P4.ipynb#W1sdnNjb2RlLXJlbW90ZQ%3D%3D?line=45'>46</a>\u001b[0m population \u001b[39m=\u001b[39m initialize_population(population_size, chromosome_length)\n\u001b[1;32m     <a href='vscode-notebook-cell://wsl%2Bfedora/home/ilir/school/cmpe452/genetic_algorithm/A4-P4.ipynb#W1sdnNjb2RlLXJlbW90ZQ%3D%3D?line=46'>47</a>\u001b[0m counter\u001b[39m=\u001b[39m\u001b[39m0\u001b[39m            \n\u001b[0;32m---> <a href='vscode-notebook-cell://wsl%2Bfedora/home/ilir/school/cmpe452/genetic_algorithm/A4-P4.ipynb#W1sdnNjb2RlLXJlbW90ZQ%3D%3D?line=47'>48</a>\u001b[0m \u001b[39mwhile\u001b[39;00m(\u001b[39many\u001b[39m(np\u001b[39m.\u001b[39;49mall(chromosome \u001b[39m==\u001b[39;49m \u001b[39m1\u001b[39;49m) \u001b[39mfor\u001b[39;00m chromosome \u001b[39min\u001b[39;00m population) \u001b[39mis\u001b[39;00m \u001b[39mnot\u001b[39;00m \u001b[39mTrue\u001b[39;00m):\n\u001b[1;32m     <a href='vscode-notebook-cell://wsl%2Bfedora/home/ilir/school/cmpe452/genetic_algorithm/A4-P4.ipynb#W1sdnNjb2RlLXJlbW90ZQ%3D%3D?line=48'>49</a>\u001b[0m     fitness_vals \u001b[39m=\u001b[39m np\u001b[39m.\u001b[39marray([fitness_function(chromosome) \u001b[39mfor\u001b[39;00m chromosome \u001b[39min\u001b[39;00m population])\n\u001b[1;32m     <a href='vscode-notebook-cell://wsl%2Bfedora/home/ilir/school/cmpe452/genetic_algorithm/A4-P4.ipynb#W1sdnNjb2RlLXJlbW90ZQ%3D%3D?line=49'>50</a>\u001b[0m     new_population \u001b[39m=\u001b[39m []\n",
      "File \u001b[0;32m~/.local/lib/python3.11/site-packages/numpy/core/fromnumeric.py:2416\u001b[0m, in \u001b[0;36m_all_dispatcher\u001b[0;34m(a, axis, out, keepdims, where)\u001b[0m\n\u001b[1;32m   2324\u001b[0m     \u001b[39m\"\"\"\u001b[39;00m\n\u001b[1;32m   2325\u001b[0m \u001b[39m    Test whether any array element along a given axis evaluates to True.\u001b[39;00m\n\u001b[1;32m   2326\u001b[0m \n\u001b[0;32m   (...)\u001b[0m\n\u001b[1;32m   2410\u001b[0m \n\u001b[1;32m   2411\u001b[0m \u001b[39m    \"\"\"\u001b[39;00m\n\u001b[1;32m   2412\u001b[0m     \u001b[39mreturn\u001b[39;00m _wrapreduction(a, np\u001b[39m.\u001b[39mlogical_or, \u001b[39m'\u001b[39m\u001b[39many\u001b[39m\u001b[39m'\u001b[39m, axis, \u001b[39mNone\u001b[39;00m, out,\n\u001b[1;32m   2413\u001b[0m                           keepdims\u001b[39m=\u001b[39mkeepdims, where\u001b[39m=\u001b[39mwhere)\n\u001b[0;32m-> 2416\u001b[0m \u001b[39mdef\u001b[39;00m \u001b[39m_all_dispatcher\u001b[39m(a, axis\u001b[39m=\u001b[39m\u001b[39mNone\u001b[39;00m, out\u001b[39m=\u001b[39m\u001b[39mNone\u001b[39;00m, keepdims\u001b[39m=\u001b[39m\u001b[39mNone\u001b[39;00m, \u001b[39m*\u001b[39m,\n\u001b[1;32m   2417\u001b[0m                     where\u001b[39m=\u001b[39m\u001b[39mNone\u001b[39;00m):\n\u001b[1;32m   2418\u001b[0m     \u001b[39mreturn\u001b[39;00m (a, where, out)\n\u001b[1;32m   2421\u001b[0m \u001b[39m@array_function_dispatch\u001b[39m(_all_dispatcher)\n\u001b[1;32m   2422\u001b[0m \u001b[39mdef\u001b[39;00m \u001b[39mall\u001b[39m(a, axis\u001b[39m=\u001b[39m\u001b[39mNone\u001b[39;00m, out\u001b[39m=\u001b[39m\u001b[39mNone\u001b[39;00m, keepdims\u001b[39m=\u001b[39mnp\u001b[39m.\u001b[39m_NoValue, \u001b[39m*\u001b[39m, where\u001b[39m=\u001b[39mnp\u001b[39m.\u001b[39m_NoValue):\n",
      "\u001b[0;31mKeyboardInterrupt\u001b[0m: "
     ]
    }
   ],
   "source": [
    "# Perform experiments with different mutation and crossover rates\n",
    "mutation_rates = [0.001, 0.01]\n",
    "# mutation_rates = [0.001, 0.01, 0.1]\n",
    "crossover_rates = [0]\n",
    "runs = 20\n",
    "\n",
    "for mutation_rate in mutation_rates:\n",
    "    for crossover_rate in crossover_rates:\n",
    "        avg_generations = genetic_algorithm(100, 20, crossover_rate, mutation_rate, runs)\n",
    "        print(f\"Mutation Rate: {mutation_rate}, Crossover Rate: {crossover_rate}, Average Generations: {avg_generations}\")"
   ]
  }
 ],
 "metadata": {
  "kernelspec": {
   "display_name": "Python 3",
   "language": "python",
   "name": "python3"
  },
  "language_info": {
   "codemirror_mode": {
    "name": "ipython",
    "version": 3
   },
   "file_extension": ".py",
   "mimetype": "text/x-python",
   "name": "python",
   "nbconvert_exporter": "python",
   "pygments_lexer": "ipython3",
   "version": "3.11.6"
  }
 },
 "nbformat": 4,
 "nbformat_minor": 2
}
