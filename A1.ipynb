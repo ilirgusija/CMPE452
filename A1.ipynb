{
 "cells": [
  {
   "cell_type": "markdown",
   "id": "1e6f1ce7",
   "metadata": {},
   "source": [
    "# CISC/CMPE 452/COGS 400 Assignment 1 - Perceptron (10 points)  \n",
    "\n",
    "Please put your name and student id here\n",
    "\n",
    "    Ilir Gusija, #20158525\n",
    "\n",
    "- The notebook file has clearly marked blocks where you are expected to write code. Do not write or modify any code outside of these blocks.\n",
    "- Make sure to restart and run all the cells from the beginning before submission. Do not clear out the outputs.\n",
    "- Mark will be deducted based on late policy (-1% of the course total marks per day after due date until the end date after which no assignments will be accepted)\n",
    "\n"
   ]
  },
  {
   "cell_type": "markdown",
   "id": "51ca32e4",
   "metadata": {},
   "source": [
    "### Build Model (6 points)  \n",
    "Implement **Simple Feedback Learning** for emotion classification (dataset from: https://www.kaggle.com/praveengovi/emotions-dataset-for-nlp)\n",
    "\n",
    "Use the correct/incorrect feedback and info about (y>d) or (y<d) to change weights.  \n",
    "Refer to the **Perceptron slides**  \n",
    "\n",
    "- 1. Implement forward and calculate the output (2 point)  \n",
    "- 2. Update the weights and bias (2 points)  \n",
    "- 3. Predict function (1 point)  \n",
    "- 4. Activation function (1 point)  \n",
    "\n",
    "### Evaluator Function (2 point)  \n",
    "Implement the evaluator function with Pytorch or Numpy only   \n",
    "- Evaluation metrics include confusion matrix, accuracy, recall score, precision and F1 score\n",
    "\n",
    "### Train and Evaluate the Model (2 point)  \n",
    "Train the model with customized learning rate and number of iterations  \n",
    "Use the predict function to predict the labels with the test dataset  \n",
    "Evaluate the prediction results  \n",
    "- Evaluation metrics include confusion matrix, accuracy, recall score, precision and F1 score\n"
   ]
  },
  {
   "cell_type": "code",
   "execution_count": 55,
   "id": "e88fb434",
   "metadata": {
    "_cell_guid": "b1076dfc-b9ad-4769-8c92-a6c4dae69d19",
    "_uuid": "8f2839f25d086af736a60e9eeb907d3b93b6e0e5",
    "execution": {
     "iopub.execute_input": "2021-07-30T15:55:22.461852Z",
     "iopub.status.busy": "2021-07-30T15:55:22.461145Z",
     "iopub.status.idle": "2021-07-30T15:55:22.477161Z",
     "shell.execute_reply": "2021-07-30T15:55:22.476528Z",
     "shell.execute_reply.started": "2021-07-30T15:51:46.068206Z"
    },
    "papermill": {
     "duration": 0.128227,
     "end_time": "2021-07-30T15:55:22.477337",
     "exception": false,
     "start_time": "2021-07-30T15:55:22.349110",
     "status": "completed"
    },
    "tags": []
   },
   "outputs": [],
   "source": [
    "import numpy as np\n",
    "import pandas as pd\n",
    "import matplotlib.pyplot as plt"
   ]
  },
  {
   "cell_type": "code",
   "execution_count": 56,
   "id": "ec206866",
   "metadata": {
    "execution": {
     "iopub.execute_input": "2021-07-30T15:55:22.527612Z",
     "iopub.status.busy": "2021-07-30T15:55:22.527076Z",
     "iopub.status.idle": "2021-07-30T15:55:22.630770Z",
     "shell.execute_reply": "2021-07-30T15:55:22.630179Z",
     "shell.execute_reply.started": "2021-07-30T15:51:49.309549Z"
    },
    "papermill": {
     "duration": 0.129591,
     "end_time": "2021-07-30T15:55:22.630946",
     "exception": false,
     "start_time": "2021-07-30T15:55:22.501355",
     "status": "completed"
    },
    "tags": []
   },
   "outputs": [],
   "source": [
    "# load dataset\n",
    "df_train = pd.read_csv('data/train.txt', names=['Text', 'Emotion'], sep=';')\n",
    "df_test = pd.read_csv('data/test.txt', names=['Text', 'Emotion'], sep=';')"
   ]
  },
  {
   "cell_type": "code",
   "execution_count": 57,
   "id": "45b67a79",
   "metadata": {},
   "outputs": [
    {
     "data": {
      "text/html": [
       "<div>\n",
       "<style scoped>\n",
       "    .dataframe tbody tr th:only-of-type {\n",
       "        vertical-align: middle;\n",
       "    }\n",
       "\n",
       "    .dataframe tbody tr th {\n",
       "        vertical-align: top;\n",
       "    }\n",
       "\n",
       "    .dataframe thead th {\n",
       "        text-align: right;\n",
       "    }\n",
       "</style>\n",
       "<table border=\"1\" class=\"dataframe\">\n",
       "  <thead>\n",
       "    <tr style=\"text-align: right;\">\n",
       "      <th></th>\n",
       "      <th>Text</th>\n",
       "      <th>Emotion</th>\n",
       "    </tr>\n",
       "  </thead>\n",
       "  <tbody>\n",
       "    <tr>\n",
       "      <th>0</th>\n",
       "      <td>i didnt feel humiliated</td>\n",
       "      <td>sadness</td>\n",
       "    </tr>\n",
       "    <tr>\n",
       "      <th>1</th>\n",
       "      <td>i can go from feeling so hopeless to so damned...</td>\n",
       "      <td>sadness</td>\n",
       "    </tr>\n",
       "    <tr>\n",
       "      <th>2</th>\n",
       "      <td>im grabbing a minute to post i feel greedy wrong</td>\n",
       "      <td>anger</td>\n",
       "    </tr>\n",
       "    <tr>\n",
       "      <th>3</th>\n",
       "      <td>i am ever feeling nostalgic about the fireplac...</td>\n",
       "      <td>love</td>\n",
       "    </tr>\n",
       "    <tr>\n",
       "      <th>4</th>\n",
       "      <td>i am feeling grouchy</td>\n",
       "      <td>anger</td>\n",
       "    </tr>\n",
       "  </tbody>\n",
       "</table>\n",
       "</div>"
      ],
      "text/plain": [
       "                                                Text  Emotion\n",
       "0                            i didnt feel humiliated  sadness\n",
       "1  i can go from feeling so hopeless to so damned...  sadness\n",
       "2   im grabbing a minute to post i feel greedy wrong    anger\n",
       "3  i am ever feeling nostalgic about the fireplac...     love\n",
       "4                               i am feeling grouchy    anger"
      ]
     },
     "execution_count": 57,
     "metadata": {},
     "output_type": "execute_result"
    }
   ],
   "source": [
    "x_train = df_train['Text']\n",
    "y_train = df_train['Emotion']\n",
    "\n",
    "x_test = df_test['Text']\n",
    "y_test = df_test['Emotion']\n",
    "\n",
    "df_train.head()"
   ]
  },
  {
   "cell_type": "code",
   "execution_count": 58,
   "id": "7d9b94da",
   "metadata": {
    "execution": {
     "iopub.execute_input": "2021-07-30T15:55:22.734110Z",
     "iopub.status.busy": "2021-07-30T15:55:22.733595Z",
     "iopub.status.idle": "2021-07-30T15:55:23.506339Z",
     "shell.execute_reply": "2021-07-30T15:55:23.505894Z",
     "shell.execute_reply.started": "2021-07-30T15:51:50.435525Z"
    },
    "papermill": {
     "duration": 0.797748,
     "end_time": "2021-07-30T15:55:23.506460",
     "exception": false,
     "start_time": "2021-07-30T15:55:22.708712",
     "status": "completed"
    },
    "tags": []
   },
   "outputs": [
    {
     "data": {
      "text/plain": [
       "joy         5362\n",
       "sadness     4666\n",
       "anger       2159\n",
       "fear        1937\n",
       "love        1304\n",
       "surprise     572\n",
       "Name: Emotion, dtype: int64"
      ]
     },
     "execution_count": 58,
     "metadata": {},
     "output_type": "execute_result"
    }
   ],
   "source": [
    "df_train.Emotion.value_counts()"
   ]
  },
  {
   "cell_type": "markdown",
   "id": "6fcf3c63",
   "metadata": {},
   "source": [
    "## Data Preprocessing"
   ]
  },
  {
   "cell_type": "code",
   "execution_count": 59,
   "id": "9de64e8f",
   "metadata": {},
   "outputs": [],
   "source": [
    "# encode label\n",
    "y_train = y_train.replace({'joy':1, 'sadness':0, 'anger':0, 'fear':0, 'love':1, 'surprise':1})\n",
    "y_test = y_test.replace({'joy':1, 'sadness':0, 'anger':0, 'fear':0, 'love':1, 'surprise':1})"
   ]
  },
  {
   "cell_type": "code",
   "execution_count": 60,
   "id": "e45acbde",
   "metadata": {},
   "outputs": [],
   "source": [
    "from sklearn.feature_extraction.text import TfidfVectorizer\n",
    "tfidf = TfidfVectorizer(sublinear_tf=True, min_df=5)#, stop_words='english')\n",
    "\n",
    "# We transform each text into a vector\n",
    "x_train = tfidf.fit_transform(x_train).toarray()\n",
    "x_test = tfidf.transform(x_test).toarray()"
   ]
  },
  {
   "cell_type": "code",
   "execution_count": 61,
   "id": "6dd38370",
   "metadata": {},
   "outputs": [],
   "source": [
    "def evaluator(y_test, y_pred):\n",
    "    ####################################################################################################\n",
    "    # enter code here to implement the evaluation matrices including confusion matrix, accuracy, precision, recall and f1\n",
    "    # DO NOT use any python packages such as scikit-learn\n",
    "    \n",
    "    conf_mat=np.zeros(shape=(2,2), dtype=int)\n",
    "    \n",
    "    for y_t, y_p in zip(y_test, y_pred):\n",
    "        if y_t==y_p:\n",
    "            if y_t==1:\n",
    "                conf_mat[0][0]+=1\n",
    "            else: \n",
    "                conf_mat[1][1]+=1\n",
    "        else:\n",
    "            if y_t==1:\n",
    "                conf_mat[0][1]+=1\n",
    "            else:\n",
    "                conf_mat[1][0]+=1\n",
    "    TP=conf_mat[0][0]\n",
    "    TN=conf_mat[1][1]\n",
    "    FP=conf_mat[0][1]\n",
    "    FN=conf_mat[1][0]\n",
    "    \n",
    "    accuracy=(TP+TN)/(TP+FP+FN+TN)\n",
    "    precision=TP/(TP+FP)\n",
    "    recall=TP/(TP+FN)\n",
    "    f1=2*precision*recall/(precision+recall)\n",
    "    \n",
    "    print(\"Confusion Matrix:\\n\", conf_mat)\n",
    "    print(\"Accuracy: \", accuracy)\n",
    "    print(\"Precision: \", precision)\n",
    "    print(\"Recall: \", recall)\n",
    "    print(\"F-Score: \", f1)\n",
    "    ####################################################################################################"
   ]
  },
  {
   "cell_type": "code",
   "execution_count": 62,
   "id": "141ff2cd",
   "metadata": {},
   "outputs": [],
   "source": [
    "class SimpleFeedbackLearning(object):\n",
    "    def __init__(self):\n",
    "        self.history = {}\n",
    "        self.history['train_acc'] = []\n",
    "        self.history['test_acc'] = []\n",
    "        \n",
    "    def f(self, x):\n",
    "        ####################################################################################################\n",
    "        # 4. enter code here to implement the activation function\n",
    "        fx=np.where(x > 0, 1, 0)\n",
    "\n",
    "        ####################################################################################################\n",
    "        return fx\n",
    "    \n",
    "    def train(self, x, y, x_test, y_test, learning_rate=0.01, n_iters=10, verbose=True):\n",
    "        n_train, input_size = x.shape\n",
    "        n_test = x_test.shape[0]\n",
    "        # weight initialization\n",
    "        self.W = np.zeros(input_size)\n",
    "        self.b = np.zeros(1)\n",
    "\n",
    "        for i in range(n_iters):\n",
    "            for xi, yi in zip(x, y):\n",
    "                # forward\n",
    "                ####################################################################################################\n",
    "                # 1. enter code here to calculate the output\n",
    "                output = self.f(np.matmul(xi, self.W) + self.b)\n",
    "            \n",
    "                ####################################################################################################\n",
    "\n",
    "                ####################################################################################################\n",
    "                # 2. enter code here to adjust the weights and bias\n",
    "                if output > yi:\n",
    "                    self.W -= learning_rate * xi\n",
    "                    self.b -= learning_rate * 1\n",
    "                elif output < yi:\n",
    "                    self.W += learning_rate * xi\n",
    "                    self.b += learning_rate * 1\n",
    "\n",
    "                ####################################################################################################\n",
    "\n",
    "            train_acc = (self.predict(x) == y).sum() / n_train\n",
    "            test_acc = (self.predict(x_test) == y_test).sum() / n_test\n",
    "            self.history['train_acc'].append(train_acc)\n",
    "            self.history['test_acc'].append(test_acc)\n",
    "            if verbose:\n",
    "                print('epoch %d, train acc %.4f, test acc %.4f' % (i + 1, train_acc, test_acc))\n",
    "\n",
    "    def predict(self, x):\n",
    "        ####################################################################################################\n",
    "        # 3. enter code here to complete the predict function\n",
    "        # TODO: use the trained weights to predict labels and return the predicted labels\n",
    "        \n",
    "        y_pred=self.f(np.matmul(x,self.W) + self.b)\n",
    "        \n",
    "        ####################################################################################################\n",
    "        return y_pred"
   ]
  },
  {
   "cell_type": "code",
   "execution_count": 63,
   "id": "5ff486a5",
   "metadata": {},
   "outputs": [
    {
     "name": "stdout",
     "output_type": "stream",
     "text": [
      "epoch 1, train acc 0.8428, test acc 0.8305\n",
      "epoch 2, train acc 0.8909, test acc 0.8755\n",
      "epoch 3, train acc 0.9326, test acc 0.9140\n",
      "epoch 4, train acc 0.9363, test acc 0.9195\n",
      "epoch 5, train acc 0.9286, test acc 0.9145\n",
      "epoch 6, train acc 0.9728, test acc 0.9455\n",
      "epoch 7, train acc 0.9732, test acc 0.9390\n",
      "epoch 8, train acc 0.9733, test acc 0.9420\n",
      "epoch 9, train acc 0.9762, test acc 0.9410\n",
      "epoch 10, train acc 0.9659, test acc 0.9300\n"
     ]
    }
   ],
   "source": [
    "####################################################################################################\n",
    "# enter code here to initialize and train the model\n",
    "model1 = SimpleFeedbackLearning()\n",
    "model1.train(x=x_train,y=y_train,x_test=x_test,y_test=y_test)\n",
    "y_pred=model1.predict(x_test)\n",
    "####################################################################################################\n"
   ]
  },
  {
   "cell_type": "code",
   "execution_count": 64,
   "id": "5f96a63c",
   "metadata": {},
   "outputs": [
    {
     "data": {
      "image/png": "[encoded data removed]",
      "text/plain": [
       "<Figure size 640x480 with 1 Axes>"
      ]
     },
     "metadata": {},
     "output_type": "display_data"
    }
   ],
   "source": [
    "# plot the accuracy\n",
    "plt.plot(model1.history['train_acc'], label='train_acc')\n",
    "plt.plot(model1.history['test_acc'], label='test_acc')\n",
    "plt.legend()\n",
    "plt.show()"
   ]
  },
  {
   "cell_type": "code",
   "execution_count": 65,
   "id": "49b42d82",
   "metadata": {},
   "outputs": [
    {
     "name": "stdout",
     "output_type": "stream",
     "text": [
      "Confusion Matrix:\n",
      " [[896  24]\n",
      " [116 964]]\n",
      "Accuracy:  0.93\n",
      "Precision:  0.9739130434782609\n",
      "Recall:  0.8853754940711462\n",
      "F-Score:  0.9275362318840581\n"
     ]
    }
   ],
   "source": [
    "####################################################################################################\n",
    "# enter code here to evaluate the model with the evaluator function\n",
    "evaluator(y_test,y_pred)\n",
    "\n",
    "####################################################################################################"
   ]
  }
 ],
 "metadata": {
  "kernelspec": {
   "display_name": "Python 3",
   "language": "python",
   "name": "python3"
  },
  "language_info": {
   "codemirror_mode": {
    "name": "ipython",
    "version": 3
   },
   "file_extension": ".py",
   "mimetype": "text/x-python",
   "name": "python",
   "nbconvert_exporter": "python",
   "pygments_lexer": "ipython3",
   "version": "3.11.4"
  },
  "papermill": {
   "default_parameters": {},
   "duration": 94.692615,
   "end_time": "2021-07-30T15:56:50.140202",
   "environment_variables": {},
   "exception": null,
   "input_path": "__notebook__.ipynb",
   "output_path": "__notebook__.ipynb",
   "parameters": {},
   "start_time": "2021-07-30T15:55:15.447587",
   "version": "2.3.3"
  }
 },
 "nbformat": 4,
 "nbformat_minor": 5
}
